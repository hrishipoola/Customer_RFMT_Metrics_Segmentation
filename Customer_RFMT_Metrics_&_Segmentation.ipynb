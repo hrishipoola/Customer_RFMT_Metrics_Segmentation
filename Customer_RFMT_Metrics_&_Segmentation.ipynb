{
  "nbformat": 4,
  "nbformat_minor": 0,
  "metadata": {
    "colab": {
      "name": "Customer RFMT Metrics & Segmentation.ipynb",
      "provenance": [],
      "collapsed_sections": [],
      "authorship_tag": "ABX9TyP44cxjEvk7f7deB5BJ4Jtl",
      "include_colab_link": true
    },
    "kernelspec": {
      "name": "python3",
      "display_name": "Python 3"
    }
  },
  "cells": [
    {
      "cell_type": "markdown",
      "metadata": {
        "id": "view-in-github",
        "colab_type": "text"
      },
      "source": [
        "<a href=\"https://colab.research.google.com/github/hrishipoola/Customer_RFMT_Metrics_Segmentation/blob/main/Customer_RFMT_Metrics_%26_Segmentation.ipynb\" target=\"_parent\"><img src=\"https://colab.research.google.com/assets/colab-badge.svg\" alt=\"Open In Colab\"/></a>"
      ]
    },
    {
      "cell_type": "markdown",
      "metadata": {
        "id": "9tzncua3zv05"
      },
      "source": [
        "# Customer RFMT Metrics & Segmentation"
      ]
    },
    {
      "cell_type": "markdown",
      "metadata": {
        "id": "0u-agRJ6z2T_"
      },
      "source": [
        "## Table of Contents\n",
        "\n",
        "1. Introduction\n",
        "2. Install & Import Packages\n",
        "3. Load & Process Data\n",
        "<br> Orders\n",
        "<br> Payments\n",
        "<br> Outliers\n",
        "<br> Merge\n",
        "4. Create RFMT Metrics\n",
        "5. Manually Segment & Score\n",
        "6. K-means Clustering\n",
        "<br> Box Cox Transformation\n",
        "<br> Scaling\n",
        "<br> Optimal K\n",
        "<br> Fit\n",
        "7. Segments\n",
        "<br> Snake Plot\n",
        "<br> Relative Importants of Metrics\n",
        "8. References\n",
        "\n"
      ]
    },
    {
      "cell_type": "markdown",
      "metadata": {
        "id": "1799BiwSvGzl"
      },
      "source": [
        "## 1. Introduction\n",
        "\n",
        "Today, we'll construct recency, frequency, monetary value, and tenure (RFMT) metrics and segments using Brazilian ecommerce marketplace [Olist's sales transactions data](https://www.kaggle.com/olistbr/brazilian-ecommerce?select=olist_orders_dataset.csv) dating from October 2016 to October 2018. \n",
        "\n",
        "RFMT metrics can be used to segment customers in order to identify which customers are responsive to marketing, engaged, contribute to churn, high spenders vs. low-value purchasers, or have upselling or cross-selling potential. Understanding segments can help us better tailor product, sales, and marketing activities and investments. For example, at-risk customers may have high monetary value and frequency, but weak recency and could be targeted with promotions and renewals. In our case, we'll define our metrics as:\n",
        "\n",
        "- Recency: days since last transaction (delivery)\n",
        "- Frequency: number of transactions during time period\n",
        "- Monetary value: total spend during time period\n",
        "- Tenure: days since first purchase order \n",
        "\n",
        "To construct RFMT metrics, we'll need order id, purchase history, order status, delivery dates, and spend details by unique customer id. Olist's data schema shows that the orders data set contains unique customer ids, order status, and delivery dates, while the payments data set contains spend. Let's merge these two data sets together on order id to get what we need. \n",
        "\n",
        "We'll use RFMT metrics to segment customers, first manually by building RFMT scores along with arbitrary cutoffs and then using K-means clustering to uncover segemnts in the data (an alternative to K-means would be non-zero matrix factorization (NMF)). We'll then compare our 4 resulting segments and relative importance of segment metrics. \n",
        "\n",
        "Future areas to explore:\n",
        "\n",
        "- Tailor metrics to product categories. For example, we could weight R and F higher and M lower for FMCG (e.g., cosmetics, headphones), while weighting M higher and R and F lower for durable goods (e.g., washing machines)\n",
        "- Merge [marketing funnel data set](https://www.kaggle.com/olistbr/marketing-funnel-olist/home) to understand and model how customer journey shapes purchasing behavior "
      ]
    },
    {
      "cell_type": "markdown",
      "metadata": {
        "id": "bhEyM7QHF036"
      },
      "source": [
        "## 2. Install & Import Packages"
      ]
    },
    {
      "cell_type": "code",
      "metadata": {
        "id": "kbLgqVNosvzL"
      },
      "source": [
        "import pandas as pd\n",
        "import numpy as np\n",
        "from datetime import date, timedelta\n",
        "from scipy import stats\n",
        "from sklearn.preprocessing import StandardScaler\n",
        "from sklearn.cluster import KMeans\n",
        "\n",
        "import seaborn as sns\n",
        "import matplotlib.pyplot as plt\n",
        "from matplotlib import style\n",
        "sns.set_style(\"darkgrid\")\n",
        "style.use('fivethirtyeight')\n",
        "\n",
        "import io\n",
        "from io import BytesIO\n",
        "from zipfile import ZipFile"
      ],
      "execution_count": 2,
      "outputs": []
    },
    {
      "cell_type": "code",
      "metadata": {
        "colab": {
          "base_uri": "https://localhost:8080/"
        },
        "id": "FkY_S_w9wWZk",
        "outputId": "30e720ea-ca29-4fe0-8c96-325327487563"
      },
      "source": [
        "# Mount google drive\n",
        "from google.colab import drive \n",
        "drive.mount('/content/drive')"
      ],
      "execution_count": 3,
      "outputs": [
        {
          "output_type": "stream",
          "text": [
            "Mounted at /content/drive\n"
          ],
          "name": "stdout"
        }
      ]
    },
    {
      "cell_type": "markdown",
      "metadata": {
        "id": "OkScCXUJGRj5"
      },
      "source": [
        "## 3. Load & Process Data"
      ]
    },
    {
      "cell_type": "markdown",
      "metadata": {
        "id": "T3c5tPUSSjO4"
      },
      "source": [
        "### Orders"
      ]
    },
    {
      "cell_type": "code",
      "metadata": {
        "colab": {
          "resources": {
            "http://localhost:8080/nbextensions/google.colab/files.js": {
              "data": "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",
              "ok": true,
              "headers": [
                [
                  "content-type",
                  "application/javascript"
                ]
              ],
              "status": 200,
              "status_text": "OK"
            }
          },
          "base_uri": "https://localhost:8080/",
          "height": 72
        },
        "id": "m-NcyURn6CmR",
        "outputId": "e399f882-f6fc-40bd-bbe0-00e00e78d02c"
      },
      "source": [
        "from google.colab import files\n",
        "uploaded = files.upload()"
      ],
      "execution_count": 4,
      "outputs": [
        {
          "output_type": "display_data",
          "data": {
            "text/html": [
              "\n",
              "     <input type=\"file\" id=\"files-01fb38de-4c98-400c-bef1-49157ddc7c74\" name=\"files[]\" multiple disabled\n",
              "        style=\"border:none\" />\n",
              "     <output id=\"result-01fb38de-4c98-400c-bef1-49157ddc7c74\">\n",
              "      Upload widget is only available when the cell has been executed in the\n",
              "      current browser session. Please rerun this cell to enable.\n",
              "      </output>\n",
              "      <script src=\"/nbextensions/google.colab/files.js\"></script> "
            ],
            "text/plain": [
              "<IPython.core.display.HTML object>"
            ]
          },
          "metadata": {
            "tags": []
          }
        },
        {
          "output_type": "stream",
          "text": [
            "Saving olist_orders_dataset.csv.zip to olist_orders_dataset.csv.zip\n"
          ],
          "name": "stdout"
        }
      ]
    },
    {
      "cell_type": "code",
      "metadata": {
        "colab": {
          "base_uri": "https://localhost:8080/",
          "height": 226
        },
        "id": "yD3wDUetws6l",
        "outputId": "fc927c35-3730-49d4-c19c-d7b46f283d08"
      },
      "source": [
        "# Read in csv zip file \n",
        "zipfile = ZipFile(BytesIO(uploaded['olist_orders_dataset.csv.zip']))\n",
        "orders = pd.read_csv(zipfile.open('olist_orders_dataset.csv'))\n",
        "orders.head()"
      ],
      "execution_count": 5,
      "outputs": [
        {
          "output_type": "execute_result",
          "data": {
            "text/html": [
              "<div>\n",
              "<style scoped>\n",
              "    .dataframe tbody tr th:only-of-type {\n",
              "        vertical-align: middle;\n",
              "    }\n",
              "\n",
              "    .dataframe tbody tr th {\n",
              "        vertical-align: top;\n",
              "    }\n",
              "\n",
              "    .dataframe thead th {\n",
              "        text-align: right;\n",
              "    }\n",
              "</style>\n",
              "<table border=\"1\" class=\"dataframe\">\n",
              "  <thead>\n",
              "    <tr style=\"text-align: right;\">\n",
              "      <th></th>\n",
              "      <th>order_id</th>\n",
              "      <th>customer_id</th>\n",
              "      <th>order_status</th>\n",
              "      <th>order_purchase_timestamp</th>\n",
              "      <th>order_approved_at</th>\n",
              "      <th>order_delivered_carrier_date</th>\n",
              "      <th>order_delivered_customer_date</th>\n",
              "      <th>order_estimated_delivery_date</th>\n",
              "    </tr>\n",
              "  </thead>\n",
              "  <tbody>\n",
              "    <tr>\n",
              "      <th>0</th>\n",
              "      <td>e481f51cbdc54678b7cc49136f2d6af7</td>\n",
              "      <td>9ef432eb6251297304e76186b10a928d</td>\n",
              "      <td>delivered</td>\n",
              "      <td>2017-10-02 10:56:33</td>\n",
              "      <td>2017-10-02 11:07:15</td>\n",
              "      <td>2017-10-04 19:55:00</td>\n",
              "      <td>2017-10-10 21:25:13</td>\n",
              "      <td>2017-10-18 00:00:00</td>\n",
              "    </tr>\n",
              "    <tr>\n",
              "      <th>1</th>\n",
              "      <td>53cdb2fc8bc7dce0b6741e2150273451</td>\n",
              "      <td>b0830fb4747a6c6d20dea0b8c802d7ef</td>\n",
              "      <td>delivered</td>\n",
              "      <td>2018-07-24 20:41:37</td>\n",
              "      <td>2018-07-26 03:24:27</td>\n",
              "      <td>2018-07-26 14:31:00</td>\n",
              "      <td>2018-08-07 15:27:45</td>\n",
              "      <td>2018-08-13 00:00:00</td>\n",
              "    </tr>\n",
              "    <tr>\n",
              "      <th>2</th>\n",
              "      <td>47770eb9100c2d0c44946d9cf07ec65d</td>\n",
              "      <td>41ce2a54c0b03bf3443c3d931a367089</td>\n",
              "      <td>delivered</td>\n",
              "      <td>2018-08-08 08:38:49</td>\n",
              "      <td>2018-08-08 08:55:23</td>\n",
              "      <td>2018-08-08 13:50:00</td>\n",
              "      <td>2018-08-17 18:06:29</td>\n",
              "      <td>2018-09-04 00:00:00</td>\n",
              "    </tr>\n",
              "    <tr>\n",
              "      <th>3</th>\n",
              "      <td>949d5b44dbf5de918fe9c16f97b45f8a</td>\n",
              "      <td>f88197465ea7920adcdbec7375364d82</td>\n",
              "      <td>delivered</td>\n",
              "      <td>2017-11-18 19:28:06</td>\n",
              "      <td>2017-11-18 19:45:59</td>\n",
              "      <td>2017-11-22 13:39:59</td>\n",
              "      <td>2017-12-02 00:28:42</td>\n",
              "      <td>2017-12-15 00:00:00</td>\n",
              "    </tr>\n",
              "    <tr>\n",
              "      <th>4</th>\n",
              "      <td>ad21c59c0840e6cb83a9ceb5573f8159</td>\n",
              "      <td>8ab97904e6daea8866dbdbc4fb7aad2c</td>\n",
              "      <td>delivered</td>\n",
              "      <td>2018-02-13 21:18:39</td>\n",
              "      <td>2018-02-13 22:20:29</td>\n",
              "      <td>2018-02-14 19:46:34</td>\n",
              "      <td>2018-02-16 18:17:02</td>\n",
              "      <td>2018-02-26 00:00:00</td>\n",
              "    </tr>\n",
              "  </tbody>\n",
              "</table>\n",
              "</div>"
            ],
            "text/plain": [
              "                           order_id  ... order_estimated_delivery_date\n",
              "0  e481f51cbdc54678b7cc49136f2d6af7  ...           2017-10-18 00:00:00\n",
              "1  53cdb2fc8bc7dce0b6741e2150273451  ...           2018-08-13 00:00:00\n",
              "2  47770eb9100c2d0c44946d9cf07ec65d  ...           2018-09-04 00:00:00\n",
              "3  949d5b44dbf5de918fe9c16f97b45f8a  ...           2017-12-15 00:00:00\n",
              "4  ad21c59c0840e6cb83a9ceb5573f8159  ...           2018-02-26 00:00:00\n",
              "\n",
              "[5 rows x 8 columns]"
            ]
          },
          "metadata": {
            "tags": []
          },
          "execution_count": 5
        }
      ]
    },
    {
      "cell_type": "code",
      "metadata": {
        "colab": {
          "base_uri": "https://localhost:8080/"
        },
        "id": "W0RK59ZYRZ5-",
        "outputId": "d3e4987a-b80f-40a0-a5c8-88d016c50127"
      },
      "source": [
        "orders.info()"
      ],
      "execution_count": 6,
      "outputs": [
        {
          "output_type": "stream",
          "text": [
            "<class 'pandas.core.frame.DataFrame'>\n",
            "RangeIndex: 99441 entries, 0 to 99440\n",
            "Data columns (total 8 columns):\n",
            " #   Column                         Non-Null Count  Dtype \n",
            "---  ------                         --------------  ----- \n",
            " 0   order_id                       99441 non-null  object\n",
            " 1   customer_id                    99441 non-null  object\n",
            " 2   order_status                   99441 non-null  object\n",
            " 3   order_purchase_timestamp       99441 non-null  object\n",
            " 4   order_approved_at              99281 non-null  object\n",
            " 5   order_delivered_carrier_date   97658 non-null  object\n",
            " 6   order_delivered_customer_date  96476 non-null  object\n",
            " 7   order_estimated_delivery_date  99441 non-null  object\n",
            "dtypes: object(8)\n",
            "memory usage: 6.1+ MB\n"
          ],
          "name": "stdout"
        }
      ]
    },
    {
      "cell_type": "code",
      "metadata": {
        "colab": {
          "base_uri": "https://localhost:8080/"
        },
        "id": "RuAGj8P3W_4x",
        "outputId": "03fa14e8-ae0c-48cb-a9b7-3a46a6a1c6ca"
      },
      "source": [
        "# Double-check for duplicate orders - there are no duplicates\n",
        "orders.duplicated().value_counts()"
      ],
      "execution_count": 7,
      "outputs": [
        {
          "output_type": "execute_result",
          "data": {
            "text/plain": [
              "False    99441\n",
              "dtype: int64"
            ]
          },
          "metadata": {
            "tags": []
          },
          "execution_count": 7
        }
      ]
    },
    {
      "cell_type": "code",
      "metadata": {
        "colab": {
          "base_uri": "https://localhost:8080/"
        },
        "id": "QzR6ageARitE",
        "outputId": "11516a9b-49ca-4cef-c574-a57f790c3a2c"
      },
      "source": [
        "# Convert date columns to datetime format\n",
        "dates = ['order_purchase_timestamp',\n",
        "          'order_approved_at', \n",
        "          'order_delivered_carrier_date',\n",
        "          'order_delivered_customer_date', \n",
        "          'order_estimated_delivery_date']\n",
        "\n",
        "for col in dates:\n",
        "    orders[col] = pd.to_datetime(orders[col])\n",
        "\n",
        "orders.dtypes"
      ],
      "execution_count": 8,
      "outputs": [
        {
          "output_type": "execute_result",
          "data": {
            "text/plain": [
              "order_id                                 object\n",
              "customer_id                              object\n",
              "order_status                             object\n",
              "order_purchase_timestamp         datetime64[ns]\n",
              "order_approved_at                datetime64[ns]\n",
              "order_delivered_carrier_date     datetime64[ns]\n",
              "order_delivered_customer_date    datetime64[ns]\n",
              "order_estimated_delivery_date    datetime64[ns]\n",
              "dtype: object"
            ]
          },
          "metadata": {
            "tags": []
          },
          "execution_count": 8
        }
      ]
    },
    {
      "cell_type": "code",
      "metadata": {
        "colab": {
          "base_uri": "https://localhost:8080/"
        },
        "id": "HoRFkvTsR2oy",
        "outputId": "6ae6f93a-9ae2-4ece-e49e-b50dde7986bb"
      },
      "source": [
        "orders['order_status'].value_counts()"
      ],
      "execution_count": 9,
      "outputs": [
        {
          "output_type": "execute_result",
          "data": {
            "text/plain": [
              "delivered      96478\n",
              "shipped         1107\n",
              "canceled         625\n",
              "unavailable      609\n",
              "invoiced         314\n",
              "processing       301\n",
              "created            5\n",
              "approved           2\n",
              "Name: order_status, dtype: int64"
            ]
          },
          "metadata": {
            "tags": []
          },
          "execution_count": 9
        }
      ]
    },
    {
      "cell_type": "code",
      "metadata": {
        "id": "v04RtRHCR-lA"
      },
      "source": [
        "# Filter orders\n",
        "delivered = orders.query('order_status == \"delivered\"')"
      ],
      "execution_count": 10,
      "outputs": []
    },
    {
      "cell_type": "code",
      "metadata": {
        "colab": {
          "base_uri": "https://localhost:8080/"
        },
        "id": "f69Fcof0SLFs",
        "outputId": "936d3bd3-dd87-44ad-96f2-1167577a4e71"
      },
      "source": [
        "delivered.isnull().sum()"
      ],
      "execution_count": 11,
      "outputs": [
        {
          "output_type": "execute_result",
          "data": {
            "text/plain": [
              "order_id                          0\n",
              "customer_id                       0\n",
              "order_status                      0\n",
              "order_purchase_timestamp          0\n",
              "order_approved_at                14\n",
              "order_delivered_carrier_date      2\n",
              "order_delivered_customer_date     8\n",
              "order_estimated_delivery_date     0\n",
              "dtype: int64"
            ]
          },
          "metadata": {
            "tags": []
          },
          "execution_count": 11
        }
      ]
    },
    {
      "cell_type": "markdown",
      "metadata": {
        "id": "R5itq3qPSn2E"
      },
      "source": [
        "### Payments"
      ]
    },
    {
      "cell_type": "code",
      "metadata": {
        "colab": {
          "resources": {
            "http://localhost:8080/nbextensions/google.colab/files.js": {
              "data": "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",
              "ok": true,
              "headers": [
                [
                  "content-type",
                  "application/javascript"
                ]
              ],
              "status": 200,
              "status_text": "OK"
            }
          },
          "base_uri": "https://localhost:8080/",
          "height": 72
        },
        "id": "dZUmBa35Sngf",
        "outputId": "103785f5-fe70-4b62-def0-5bd7a790479f"
      },
      "source": [
        "from google.colab import files\n",
        "uploaded = files.upload()"
      ],
      "execution_count": 12,
      "outputs": [
        {
          "output_type": "display_data",
          "data": {
            "text/html": [
              "\n",
              "     <input type=\"file\" id=\"files-25cd5d3d-3964-41ee-88ee-effac02dcb2e\" name=\"files[]\" multiple disabled\n",
              "        style=\"border:none\" />\n",
              "     <output id=\"result-25cd5d3d-3964-41ee-88ee-effac02dcb2e\">\n",
              "      Upload widget is only available when the cell has been executed in the\n",
              "      current browser session. Please rerun this cell to enable.\n",
              "      </output>\n",
              "      <script src=\"/nbextensions/google.colab/files.js\"></script> "
            ],
            "text/plain": [
              "<IPython.core.display.HTML object>"
            ]
          },
          "metadata": {
            "tags": []
          }
        },
        {
          "output_type": "stream",
          "text": [
            "Saving olist_order_payments_dataset.csv.zip to olist_order_payments_dataset.csv.zip\n"
          ],
          "name": "stdout"
        }
      ]
    },
    {
      "cell_type": "code",
      "metadata": {
        "colab": {
          "base_uri": "https://localhost:8080/",
          "height": 206
        },
        "id": "bhnUFq3LAJ-q",
        "outputId": "c9bce4d2-d841-4710-ad55-9e4b683f14e1"
      },
      "source": [
        "# Read in csv zip file \n",
        "zipfile = ZipFile(BytesIO(uploaded['olist_order_payments_dataset.csv.zip']))\n",
        "payments = pd.read_csv(zipfile.open('olist_order_payments_dataset.csv'))\n",
        "payments.head()"
      ],
      "execution_count": 13,
      "outputs": [
        {
          "output_type": "execute_result",
          "data": {
            "text/html": [
              "<div>\n",
              "<style scoped>\n",
              "    .dataframe tbody tr th:only-of-type {\n",
              "        vertical-align: middle;\n",
              "    }\n",
              "\n",
              "    .dataframe tbody tr th {\n",
              "        vertical-align: top;\n",
              "    }\n",
              "\n",
              "    .dataframe thead th {\n",
              "        text-align: right;\n",
              "    }\n",
              "</style>\n",
              "<table border=\"1\" class=\"dataframe\">\n",
              "  <thead>\n",
              "    <tr style=\"text-align: right;\">\n",
              "      <th></th>\n",
              "      <th>order_id</th>\n",
              "      <th>payment_sequential</th>\n",
              "      <th>payment_type</th>\n",
              "      <th>payment_installments</th>\n",
              "      <th>payment_value</th>\n",
              "    </tr>\n",
              "  </thead>\n",
              "  <tbody>\n",
              "    <tr>\n",
              "      <th>0</th>\n",
              "      <td>b81ef226f3fe1789b1e8b2acac839d17</td>\n",
              "      <td>1</td>\n",
              "      <td>credit_card</td>\n",
              "      <td>8</td>\n",
              "      <td>99.33</td>\n",
              "    </tr>\n",
              "    <tr>\n",
              "      <th>1</th>\n",
              "      <td>a9810da82917af2d9aefd1278f1dcfa0</td>\n",
              "      <td>1</td>\n",
              "      <td>credit_card</td>\n",
              "      <td>1</td>\n",
              "      <td>24.39</td>\n",
              "    </tr>\n",
              "    <tr>\n",
              "      <th>2</th>\n",
              "      <td>25e8ea4e93396b6fa0d3dd708e76c1bd</td>\n",
              "      <td>1</td>\n",
              "      <td>credit_card</td>\n",
              "      <td>1</td>\n",
              "      <td>65.71</td>\n",
              "    </tr>\n",
              "    <tr>\n",
              "      <th>3</th>\n",
              "      <td>ba78997921bbcdc1373bb41e913ab953</td>\n",
              "      <td>1</td>\n",
              "      <td>credit_card</td>\n",
              "      <td>8</td>\n",
              "      <td>107.78</td>\n",
              "    </tr>\n",
              "    <tr>\n",
              "      <th>4</th>\n",
              "      <td>42fdf880ba16b47b59251dd489d4441a</td>\n",
              "      <td>1</td>\n",
              "      <td>credit_card</td>\n",
              "      <td>2</td>\n",
              "      <td>128.45</td>\n",
              "    </tr>\n",
              "  </tbody>\n",
              "</table>\n",
              "</div>"
            ],
            "text/plain": [
              "                           order_id  ...  payment_value\n",
              "0  b81ef226f3fe1789b1e8b2acac839d17  ...          99.33\n",
              "1  a9810da82917af2d9aefd1278f1dcfa0  ...          24.39\n",
              "2  25e8ea4e93396b6fa0d3dd708e76c1bd  ...          65.71\n",
              "3  ba78997921bbcdc1373bb41e913ab953  ...         107.78\n",
              "4  42fdf880ba16b47b59251dd489d4441a  ...         128.45\n",
              "\n",
              "[5 rows x 5 columns]"
            ]
          },
          "metadata": {
            "tags": []
          },
          "execution_count": 13
        }
      ]
    },
    {
      "cell_type": "code",
      "metadata": {
        "colab": {
          "base_uri": "https://localhost:8080/"
        },
        "id": "JmVRszbCS3q6",
        "outputId": "d2a16a42-fc99-4ff8-8dc6-68c06be65751"
      },
      "source": [
        "payments.info()"
      ],
      "execution_count": 14,
      "outputs": [
        {
          "output_type": "stream",
          "text": [
            "<class 'pandas.core.frame.DataFrame'>\n",
            "RangeIndex: 103886 entries, 0 to 103885\n",
            "Data columns (total 5 columns):\n",
            " #   Column                Non-Null Count   Dtype  \n",
            "---  ------                --------------   -----  \n",
            " 0   order_id              103886 non-null  object \n",
            " 1   payment_sequential    103886 non-null  int64  \n",
            " 2   payment_type          103886 non-null  object \n",
            " 3   payment_installments  103886 non-null  int64  \n",
            " 4   payment_value         103886 non-null  float64\n",
            "dtypes: float64(1), int64(2), object(2)\n",
            "memory usage: 4.0+ MB\n"
          ],
          "name": "stdout"
        }
      ]
    },
    {
      "cell_type": "code",
      "metadata": {
        "colab": {
          "base_uri": "https://localhost:8080/"
        },
        "id": "xqkt4zs7ZMll",
        "outputId": "963537a9-f65e-4fe3-ccf0-2c1faba77f8b"
      },
      "source": [
        "# Double-check for duplicate orders - there are no duplicates\n",
        "payments.duplicated().value_counts()"
      ],
      "execution_count": 15,
      "outputs": [
        {
          "output_type": "execute_result",
          "data": {
            "text/plain": [
              "False    103886\n",
              "dtype: int64"
            ]
          },
          "metadata": {
            "tags": []
          },
          "execution_count": 15
        }
      ]
    },
    {
      "cell_type": "code",
      "metadata": {
        "colab": {
          "base_uri": "https://localhost:8080/",
          "height": 300
        },
        "id": "rSkpXMWXlRkL",
        "outputId": "75b0cd24-e3dc-4d62-a047-ecf1c7648322"
      },
      "source": [
        "# Keep only non-zero payment values\n",
        "payments = payments.query('payment_value > 0')\n",
        "payments.describe()"
      ],
      "execution_count": 16,
      "outputs": [
        {
          "output_type": "execute_result",
          "data": {
            "text/html": [
              "<div>\n",
              "<style scoped>\n",
              "    .dataframe tbody tr th:only-of-type {\n",
              "        vertical-align: middle;\n",
              "    }\n",
              "\n",
              "    .dataframe tbody tr th {\n",
              "        vertical-align: top;\n",
              "    }\n",
              "\n",
              "    .dataframe thead th {\n",
              "        text-align: right;\n",
              "    }\n",
              "</style>\n",
              "<table border=\"1\" class=\"dataframe\">\n",
              "  <thead>\n",
              "    <tr style=\"text-align: right;\">\n",
              "      <th></th>\n",
              "      <th>payment_sequential</th>\n",
              "      <th>payment_installments</th>\n",
              "      <th>payment_value</th>\n",
              "    </tr>\n",
              "  </thead>\n",
              "  <tbody>\n",
              "    <tr>\n",
              "      <th>count</th>\n",
              "      <td>103877.000000</td>\n",
              "      <td>103877.000000</td>\n",
              "      <td>103877.000000</td>\n",
              "    </tr>\n",
              "    <tr>\n",
              "      <th>mean</th>\n",
              "      <td>1.092340</td>\n",
              "      <td>2.853509</td>\n",
              "      <td>154.113732</td>\n",
              "    </tr>\n",
              "    <tr>\n",
              "      <th>std</th>\n",
              "      <td>0.704312</td>\n",
              "      <td>2.687112</td>\n",
              "      <td>217.498755</td>\n",
              "    </tr>\n",
              "    <tr>\n",
              "      <th>min</th>\n",
              "      <td>1.000000</td>\n",
              "      <td>0.000000</td>\n",
              "      <td>0.010000</td>\n",
              "    </tr>\n",
              "    <tr>\n",
              "      <th>25%</th>\n",
              "      <td>1.000000</td>\n",
              "      <td>1.000000</td>\n",
              "      <td>56.820000</td>\n",
              "    </tr>\n",
              "    <tr>\n",
              "      <th>50%</th>\n",
              "      <td>1.000000</td>\n",
              "      <td>1.000000</td>\n",
              "      <td>100.000000</td>\n",
              "    </tr>\n",
              "    <tr>\n",
              "      <th>75%</th>\n",
              "      <td>1.000000</td>\n",
              "      <td>4.000000</td>\n",
              "      <td>171.840000</td>\n",
              "    </tr>\n",
              "    <tr>\n",
              "      <th>max</th>\n",
              "      <td>29.000000</td>\n",
              "      <td>24.000000</td>\n",
              "      <td>13664.080000</td>\n",
              "    </tr>\n",
              "  </tbody>\n",
              "</table>\n",
              "</div>"
            ],
            "text/plain": [
              "       payment_sequential  payment_installments  payment_value\n",
              "count       103877.000000         103877.000000  103877.000000\n",
              "mean             1.092340              2.853509     154.113732\n",
              "std              0.704312              2.687112     217.498755\n",
              "min              1.000000              0.000000       0.010000\n",
              "25%              1.000000              1.000000      56.820000\n",
              "50%              1.000000              1.000000     100.000000\n",
              "75%              1.000000              4.000000     171.840000\n",
              "max             29.000000             24.000000   13664.080000"
            ]
          },
          "metadata": {
            "tags": []
          },
          "execution_count": 16
        }
      ]
    },
    {
      "cell_type": "markdown",
      "metadata": {
        "id": "DBllaKiGUGhB"
      },
      "source": [
        "### Outliers\n",
        "\n",
        "Let's take a look at payment value outliers (beyond 3 standard deviations). "
      ]
    },
    {
      "cell_type": "code",
      "metadata": {
        "colab": {
          "base_uri": "https://localhost:8080/",
          "height": 189
        },
        "id": "SC3HfD7uTFsg",
        "outputId": "c6f941ec-628d-4875-faad-fce711fd70fb"
      },
      "source": [
        "# Box plot: distribution is skewed with higher end outliers \n",
        "square = dict(markerfacecolor='salmon', markeredgecolor='salmon', marker='.')\n",
        "payments.payment_value.plot(kind='box', vert=False, flierprops=square, figsize=(18,1.5))\n",
        "plt.xlabel('R$')\n",
        "plt.title('Distribution of Payment Values')"
      ],
      "execution_count": 17,
      "outputs": [
        {
          "output_type": "execute_result",
          "data": {
            "text/plain": [
              "Text(0.5, 1.0, 'Distribution of Payment Values')"
            ]
          },
          "metadata": {
            "tags": []
          },
          "execution_count": 17
        },
        {
          "output_type": "display_data",
          "data": {
            "image/png": "[encoded data removed]",
            "text/plain": [
              "<Figure size 1296x108 with 1 Axes>"
            ]
          },
          "metadata": {
            "tags": []
          }
        }
      ]
    },
    {
      "cell_type": "code",
      "metadata": {
        "colab": {
          "base_uri": "https://localhost:8080/"
        },
        "id": "T-Rhzn8yYc6z",
        "outputId": "abed10ea-c2d3-4d0b-8db8-350b5393fecc"
      },
      "source": [
        "# Remove outliers (beyond 3 standard deviations)\n",
        "z = np.abs(stats.zscore(payments['payment_value']))\n",
        "payments_filtered = payments[(z < 3)]\n",
        "outliers = payments[(z > 3)] # Keep the outliers as a separate dataframe in case we want to explore them\n",
        "\n",
        "print('There are {} outlier payment values.'.format(outliers.shape[0]))"
      ],
      "execution_count": 18,
      "outputs": [
        {
          "output_type": "stream",
          "text": [
            "There are 1803 outlier payment values.\n"
          ],
          "name": "stdout"
        }
      ]
    },
    {
      "cell_type": "code",
      "metadata": {
        "colab": {
          "base_uri": "https://localhost:8080/"
        },
        "id": "wHv9Vy_3V3Zy",
        "outputId": "eb9fef00-92b1-4d1c-d31d-b5c9b9473b0c"
      },
      "source": [
        "# Payments with outliers removed is less skewed\n",
        "payments_filtered.payment_value.describe()"
      ],
      "execution_count": 19,
      "outputs": [
        {
          "output_type": "execute_result",
          "data": {
            "text/plain": [
              "count    102074.000000\n",
              "mean        133.246549\n",
              "std         119.365471\n",
              "min           0.010000\n",
              "25%          56.245000\n",
              "50%          98.510000\n",
              "75%         166.645000\n",
              "max         806.460000\n",
              "Name: payment_value, dtype: float64"
            ]
          },
          "metadata": {
            "tags": []
          },
          "execution_count": 19
        }
      ]
    },
    {
      "cell_type": "code",
      "metadata": {
        "colab": {
          "base_uri": "https://localhost:8080/",
          "height": 189
        },
        "id": "CkYrjpDLTjph",
        "outputId": "ce818c3e-88d7-4d76-aedb-2f8a2c311e18"
      },
      "source": [
        "# Box plot: distribution is skewed with higher end outliers \n",
        "square = dict(markerfacecolor='salmon', markeredgecolor='salmon', marker='.')\n",
        "payments_filtered.payment_value.plot(kind='box', vert=False, flierprops=square, figsize=(18,1.5))\n",
        "plt.xlabel('R$')\n",
        "plt.title('Distribution of Payment Values Ex-Outliers')"
      ],
      "execution_count": 20,
      "outputs": [
        {
          "output_type": "execute_result",
          "data": {
            "text/plain": [
              "Text(0.5, 1.0, 'Distribution of Payment Values Ex-Outliers')"
            ]
          },
          "metadata": {
            "tags": []
          },
          "execution_count": 20
        },
        {
          "output_type": "display_data",
          "data": {
            "image/png": "[encoded data removed]",
            "text/plain": [
              "<Figure size 1296x108 with 1 Axes>"
            ]
          },
          "metadata": {
            "tags": []
          }
        }
      ]
    },
    {
      "cell_type": "code",
      "metadata": {
        "colab": {
          "base_uri": "https://localhost:8080/",
          "height": 399
        },
        "id": "Po_8aga1XoJv",
        "outputId": "2b683b03-8b05-4b7d-ddfb-cd3b4b7ac321"
      },
      "source": [
        "# Plot distribution\n",
        "sns.displot(payments_filtered['payment_value'],bins=30, kde=True, color='turquoise')\n",
        "plt.title('Distribution of Payment Values (Ex-Outliers)')\n",
        "plt.xlabel('R$')"
      ],
      "execution_count": 21,
      "outputs": [
        {
          "output_type": "execute_result",
          "data": {
            "text/plain": [
              "Text(0.5, 11.11999999999999, 'R$')"
            ]
          },
          "metadata": {
            "tags": []
          },
          "execution_count": 21
        },
        {
          "output_type": "display_data",
          "data": {
            "image/png": "[encoded data removed]",
            "text/plain": [
              "<Figure size 360x360 with 1 Axes>"
            ]
          },
          "metadata": {
            "tags": []
          }
        }
      ]
    },
    {
      "cell_type": "code",
      "metadata": {
        "colab": {
          "base_uri": "https://localhost:8080/",
          "height": 399
        },
        "id": "4tRwXZhqjHXA",
        "outputId": "d52720cc-797c-4c43-e955-8bb1a552f143"
      },
      "source": [
        "# Plot distribution\n",
        "sns.displot(outliers['payment_value'],bins=50, color='salmon')\n",
        "plt.title('Distribution of Payment Value Outliers')\n",
        "plt.xlabel('R$')"
      ],
      "execution_count": 22,
      "outputs": [
        {
          "output_type": "execute_result",
          "data": {
            "text/plain": [
              "Text(0.5, 11.11999999999999, 'R$')"
            ]
          },
          "metadata": {
            "tags": []
          },
          "execution_count": 22
        },
        {
          "output_type": "display_data",
          "data": {
            "image/png": "[encoded data removed]",
            "text/plain": [
              "<Figure size 360x360 with 1 Axes>"
            ]
          },
          "metadata": {
            "tags": []
          }
        }
      ]
    },
    {
      "cell_type": "markdown",
      "metadata": {
        "id": "mPUHCOPHi3AY"
      },
      "source": [
        "Let's actually keep the outliers in as they could represent an important group of customers to understand and segment. \n",
        "\n",
        "In the future, we could remove the outliers and run a further analysis and segmentation focusing only on core customers. We could also dive into the outlier group itself. "
      ]
    },
    {
      "cell_type": "markdown",
      "metadata": {
        "id": "r8oI-vALWGFs"
      },
      "source": [
        "### Merge"
      ]
    },
    {
      "cell_type": "code",
      "metadata": {
        "colab": {
          "base_uri": "https://localhost:8080/",
          "height": 226
        },
        "id": "46yuBkU6AX8C",
        "outputId": "b4cdc06f-2fdc-4636-9e1d-7e354519086d"
      },
      "source": [
        "# Merge delivered and payments\n",
        "df = delivered.merge(payments, on ='order_id',how = 'outer')\n",
        "df.head()"
      ],
      "execution_count": 23,
      "outputs": [
        {
          "output_type": "execute_result",
          "data": {
            "text/html": [
              "<div>\n",
              "<style scoped>\n",
              "    .dataframe tbody tr th:only-of-type {\n",
              "        vertical-align: middle;\n",
              "    }\n",
              "\n",
              "    .dataframe tbody tr th {\n",
              "        vertical-align: top;\n",
              "    }\n",
              "\n",
              "    .dataframe thead th {\n",
              "        text-align: right;\n",
              "    }\n",
              "</style>\n",
              "<table border=\"1\" class=\"dataframe\">\n",
              "  <thead>\n",
              "    <tr style=\"text-align: right;\">\n",
              "      <th></th>\n",
              "      <th>order_id</th>\n",
              "      <th>customer_id</th>\n",
              "      <th>order_status</th>\n",
              "      <th>order_purchase_timestamp</th>\n",
              "      <th>order_approved_at</th>\n",
              "      <th>order_delivered_carrier_date</th>\n",
              "      <th>order_delivered_customer_date</th>\n",
              "      <th>order_estimated_delivery_date</th>\n",
              "      <th>payment_sequential</th>\n",
              "      <th>payment_type</th>\n",
              "      <th>payment_installments</th>\n",
              "      <th>payment_value</th>\n",
              "    </tr>\n",
              "  </thead>\n",
              "  <tbody>\n",
              "    <tr>\n",
              "      <th>0</th>\n",
              "      <td>e481f51cbdc54678b7cc49136f2d6af7</td>\n",
              "      <td>9ef432eb6251297304e76186b10a928d</td>\n",
              "      <td>delivered</td>\n",
              "      <td>2017-10-02 10:56:33</td>\n",
              "      <td>2017-10-02 11:07:15</td>\n",
              "      <td>2017-10-04 19:55:00</td>\n",
              "      <td>2017-10-10 21:25:13</td>\n",
              "      <td>2017-10-18</td>\n",
              "      <td>1.0</td>\n",
              "      <td>credit_card</td>\n",
              "      <td>1.0</td>\n",
              "      <td>18.12</td>\n",
              "    </tr>\n",
              "    <tr>\n",
              "      <th>1</th>\n",
              "      <td>e481f51cbdc54678b7cc49136f2d6af7</td>\n",
              "      <td>9ef432eb6251297304e76186b10a928d</td>\n",
              "      <td>delivered</td>\n",
              "      <td>2017-10-02 10:56:33</td>\n",
              "      <td>2017-10-02 11:07:15</td>\n",
              "      <td>2017-10-04 19:55:00</td>\n",
              "      <td>2017-10-10 21:25:13</td>\n",
              "      <td>2017-10-18</td>\n",
              "      <td>3.0</td>\n",
              "      <td>voucher</td>\n",
              "      <td>1.0</td>\n",
              "      <td>2.00</td>\n",
              "    </tr>\n",
              "    <tr>\n",
              "      <th>2</th>\n",
              "      <td>e481f51cbdc54678b7cc49136f2d6af7</td>\n",
              "      <td>9ef432eb6251297304e76186b10a928d</td>\n",
              "      <td>delivered</td>\n",
              "      <td>2017-10-02 10:56:33</td>\n",
              "      <td>2017-10-02 11:07:15</td>\n",
              "      <td>2017-10-04 19:55:00</td>\n",
              "      <td>2017-10-10 21:25:13</td>\n",
              "      <td>2017-10-18</td>\n",
              "      <td>2.0</td>\n",
              "      <td>voucher</td>\n",
              "      <td>1.0</td>\n",
              "      <td>18.59</td>\n",
              "    </tr>\n",
              "    <tr>\n",
              "      <th>3</th>\n",
              "      <td>53cdb2fc8bc7dce0b6741e2150273451</td>\n",
              "      <td>b0830fb4747a6c6d20dea0b8c802d7ef</td>\n",
              "      <td>delivered</td>\n",
              "      <td>2018-07-24 20:41:37</td>\n",
              "      <td>2018-07-26 03:24:27</td>\n",
              "      <td>2018-07-26 14:31:00</td>\n",
              "      <td>2018-08-07 15:27:45</td>\n",
              "      <td>2018-08-13</td>\n",
              "      <td>1.0</td>\n",
              "      <td>boleto</td>\n",
              "      <td>1.0</td>\n",
              "      <td>141.46</td>\n",
              "    </tr>\n",
              "    <tr>\n",
              "      <th>4</th>\n",
              "      <td>47770eb9100c2d0c44946d9cf07ec65d</td>\n",
              "      <td>41ce2a54c0b03bf3443c3d931a367089</td>\n",
              "      <td>delivered</td>\n",
              "      <td>2018-08-08 08:38:49</td>\n",
              "      <td>2018-08-08 08:55:23</td>\n",
              "      <td>2018-08-08 13:50:00</td>\n",
              "      <td>2018-08-17 18:06:29</td>\n",
              "      <td>2018-09-04</td>\n",
              "      <td>1.0</td>\n",
              "      <td>credit_card</td>\n",
              "      <td>3.0</td>\n",
              "      <td>179.12</td>\n",
              "    </tr>\n",
              "  </tbody>\n",
              "</table>\n",
              "</div>"
            ],
            "text/plain": [
              "                           order_id  ... payment_value\n",
              "0  e481f51cbdc54678b7cc49136f2d6af7  ...         18.12\n",
              "1  e481f51cbdc54678b7cc49136f2d6af7  ...          2.00\n",
              "2  e481f51cbdc54678b7cc49136f2d6af7  ...         18.59\n",
              "3  53cdb2fc8bc7dce0b6741e2150273451  ...        141.46\n",
              "4  47770eb9100c2d0c44946d9cf07ec65d  ...        179.12\n",
              "\n",
              "[5 rows x 12 columns]"
            ]
          },
          "metadata": {
            "tags": []
          },
          "execution_count": 23
        }
      ]
    },
    {
      "cell_type": "code",
      "metadata": {
        "colab": {
          "base_uri": "https://localhost:8080/"
        },
        "id": "52NMDSGIF6jo",
        "outputId": "a735bea3-482e-41b7-8ca4-a1c356614946"
      },
      "source": [
        "df.info()"
      ],
      "execution_count": 24,
      "outputs": [
        {
          "output_type": "stream",
          "text": [
            "<class 'pandas.core.frame.DataFrame'>\n",
            "Int64Index: 103878 entries, 0 to 103877\n",
            "Data columns (total 12 columns):\n",
            " #   Column                         Non-Null Count   Dtype         \n",
            "---  ------                         --------------   -----         \n",
            " 0   order_id                       103878 non-null  object        \n",
            " 1   customer_id                    100753 non-null  object        \n",
            " 2   order_status                   100753 non-null  object        \n",
            " 3   order_purchase_timestamp       100753 non-null  datetime64[ns]\n",
            " 4   order_approved_at              100739 non-null  datetime64[ns]\n",
            " 5   order_delivered_carrier_date   100751 non-null  datetime64[ns]\n",
            " 6   order_delivered_customer_date  100745 non-null  datetime64[ns]\n",
            " 7   order_estimated_delivery_date  100753 non-null  datetime64[ns]\n",
            " 8   payment_sequential             103877 non-null  float64       \n",
            " 9   payment_type                   103877 non-null  object        \n",
            " 10  payment_installments           103877 non-null  float64       \n",
            " 11  payment_value                  103877 non-null  float64       \n",
            "dtypes: datetime64[ns](5), float64(3), object(4)\n",
            "memory usage: 10.3+ MB\n"
          ],
          "name": "stdout"
        }
      ]
    },
    {
      "cell_type": "code",
      "metadata": {
        "colab": {
          "base_uri": "https://localhost:8080/"
        },
        "id": "_bNuHdsXWEp5",
        "outputId": "71e64fab-1953-4044-fd82-ae979ea53c9f"
      },
      "source": [
        "print('Delivery timestamps range from {} to {}.'.format(min(df.order_delivered_customer_date), max(df.order_delivered_customer_date))) "
      ],
      "execution_count": 25,
      "outputs": [
        {
          "output_type": "stream",
          "text": [
            "Delivery timestamps range from 2016-10-11 13:46:32 to 2018-10-17 13:22:46.\n"
          ],
          "name": "stdout"
        }
      ]
    },
    {
      "cell_type": "markdown",
      "metadata": {
        "id": "6DrXlL6BVT40"
      },
      "source": [
        "## 4. Create RFMT Metrics\n",
        "\n",
        "\n"
      ]
    },
    {
      "cell_type": "code",
      "metadata": {
        "id": "oXu_C8cOUuud"
      },
      "source": [
        "# RFMT metrics\n",
        "snapshot_date = df['order_delivered_customer_date'].max() + timedelta(days=1)\n",
        "rfmt = df.groupby('customer_id') \\\n",
        "         .agg({'order_delivered_customer_date': lambda x: (snapshot_date - x.max()).days, # recency\n",
        "               'order_id': 'count', # frequency\n",
        "               'payment_value': 'sum', # monetary value\n",
        "               'order_purchase_timestamp': lambda x: (snapshot_date - x.min()).days # tenure\n",
        "              }) \n",
        "\n",
        "rfmt.dropna(inplace=True)\n",
        "rfmt = rfmt.query('payment_value > 0') # keep only non-zero monetary values, box cox transformation requires positive values\n",
        "rfmt.columns = ['recency','frequency','monetary_value','tenure']"
      ],
      "execution_count": 26,
      "outputs": []
    },
    {
      "cell_type": "markdown",
      "metadata": {
        "id": "xyNApFdlDfHW"
      },
      "source": [
        "## 5. Manually Segment & Score"
      ]
    },
    {
      "cell_type": "code",
      "metadata": {
        "colab": {
          "base_uri": "https://localhost:8080/",
          "height": 455
        },
        "id": "eJf5t6MJVDWR",
        "outputId": "1ddfa290-bfb0-466a-f23e-9b67f2c90153"
      },
      "source": [
        "# Recency\n",
        "recency_labels = range(3,0,-1) # low recency is better than high recency\n",
        "recency_group = pd.qcut(rfmt['recency'], 3, labels=recency_labels, duplicates='drop')\n",
        "\n",
        "# Frequency\n",
        "frequency_labels = range(1,2)\n",
        "frequency_group = pd.qcut(rfmt['frequency'], 1, labels=frequency_labels, duplicates='drop')\n",
        "\n",
        "# Monetary value\n",
        "monetary_labels = range(1,5)\n",
        "monetary_group = pd.qcut(rfmt['monetary_value'], 4, labels=monetary_labels, duplicates='drop')\n",
        "\n",
        "# Tenure\n",
        "tenure_labels = range(1,5)\n",
        "tenure_group = pd.qcut(rfmt['tenure'], 4, labels=tenure_labels, duplicates='drop')\n",
        "\n",
        "rfmt = rfmt.assign(R=recency_group.values, F=frequency_group.values, M=monetary_group.values, T=tenure_group.values)\n",
        "\n",
        "rfmt['RFMT_Segment'] = rfmt['R'].astype(str) + rfmt['F'].astype(str) + rfmt['M'].astype(str) + rfmt['T'].astype(str)\n",
        "rfmt['RFMT_Score'] = rfmt[['R','F','M','T']].sum(axis=1)\n",
        "rfmt"
      ],
      "execution_count": 27,
      "outputs": [
        {
          "output_type": "execute_result",
          "data": {
            "text/html": [
              "<div>\n",
              "<style scoped>\n",
              "    .dataframe tbody tr th:only-of-type {\n",
              "        vertical-align: middle;\n",
              "    }\n",
              "\n",
              "    .dataframe tbody tr th {\n",
              "        vertical-align: top;\n",
              "    }\n",
              "\n",
              "    .dataframe thead th {\n",
              "        text-align: right;\n",
              "    }\n",
              "</style>\n",
              "<table border=\"1\" class=\"dataframe\">\n",
              "  <thead>\n",
              "    <tr style=\"text-align: right;\">\n",
              "      <th></th>\n",
              "      <th>recency</th>\n",
              "      <th>frequency</th>\n",
              "      <th>monetary_value</th>\n",
              "      <th>tenure</th>\n",
              "      <th>R</th>\n",
              "      <th>F</th>\n",
              "      <th>M</th>\n",
              "      <th>T</th>\n",
              "      <th>RFMT_Segment</th>\n",
              "      <th>RFMT_Score</th>\n",
              "    </tr>\n",
              "    <tr>\n",
              "      <th>customer_id</th>\n",
              "      <th></th>\n",
              "      <th></th>\n",
              "      <th></th>\n",
              "      <th></th>\n",
              "      <th></th>\n",
              "      <th></th>\n",
              "      <th></th>\n",
              "      <th></th>\n",
              "      <th></th>\n",
              "      <th></th>\n",
              "    </tr>\n",
              "  </thead>\n",
              "  <tbody>\n",
              "    <tr>\n",
              "      <th>00012a2ce6f8dcda20d059ce98491703</th>\n",
              "      <td>323.0</td>\n",
              "      <td>1</td>\n",
              "      <td>114.74</td>\n",
              "      <td>337</td>\n",
              "      <td>2</td>\n",
              "      <td>1</td>\n",
              "      <td>3</td>\n",
              "      <td>3</td>\n",
              "      <td>2133</td>\n",
              "      <td>9</td>\n",
              "    </tr>\n",
              "    <tr>\n",
              "      <th>000161a058600d5901f007fab4c27140</th>\n",
              "      <td>449.0</td>\n",
              "      <td>1</td>\n",
              "      <td>67.41</td>\n",
              "      <td>459</td>\n",
              "      <td>1</td>\n",
              "      <td>1</td>\n",
              "      <td>2</td>\n",
              "      <td>4</td>\n",
              "      <td>1124</td>\n",
              "      <td>8</td>\n",
              "    </tr>\n",
              "    <tr>\n",
              "      <th>0001fd6190edaaf884bcaf3d49edf079</th>\n",
              "      <td>591.0</td>\n",
              "      <td>1</td>\n",
              "      <td>195.42</td>\n",
              "      <td>597</td>\n",
              "      <td>1</td>\n",
              "      <td>1</td>\n",
              "      <td>4</td>\n",
              "      <td>4</td>\n",
              "      <td>1144</td>\n",
              "      <td>10</td>\n",
              "    </tr>\n",
              "    <tr>\n",
              "      <th>0002414f95344307404f0ace7a26f1d5</th>\n",
              "      <td>399.0</td>\n",
              "      <td>1</td>\n",
              "      <td>179.35</td>\n",
              "      <td>428</td>\n",
              "      <td>1</td>\n",
              "      <td>1</td>\n",
              "      <td>4</td>\n",
              "      <td>4</td>\n",
              "      <td>1144</td>\n",
              "      <td>10</td>\n",
              "    </tr>\n",
              "    <tr>\n",
              "      <th>000379cdec625522490c315e70c7a9fb</th>\n",
              "      <td>187.0</td>\n",
              "      <td>1</td>\n",
              "      <td>107.01</td>\n",
              "      <td>198</td>\n",
              "      <td>3</td>\n",
              "      <td>1</td>\n",
              "      <td>3</td>\n",
              "      <td>2</td>\n",
              "      <td>3132</td>\n",
              "      <td>9</td>\n",
              "    </tr>\n",
              "    <tr>\n",
              "      <th>...</th>\n",
              "      <td>...</td>\n",
              "      <td>...</td>\n",
              "      <td>...</td>\n",
              "      <td>...</td>\n",
              "      <td>...</td>\n",
              "      <td>...</td>\n",
              "      <td>...</td>\n",
              "      <td>...</td>\n",
              "      <td>...</td>\n",
              "      <td>...</td>\n",
              "    </tr>\n",
              "    <tr>\n",
              "      <th>fffcb937e9dd47a13f05ecb8290f4d3e</th>\n",
              "      <td>210.0</td>\n",
              "      <td>1</td>\n",
              "      <td>91.91</td>\n",
              "      <td>215</td>\n",
              "      <td>2</td>\n",
              "      <td>1</td>\n",
              "      <td>2</td>\n",
              "      <td>2</td>\n",
              "      <td>2122</td>\n",
              "      <td>7</td>\n",
              "    </tr>\n",
              "    <tr>\n",
              "      <th>fffecc9f79fd8c764f843e9951b11341</th>\n",
              "      <td>190.0</td>\n",
              "      <td>3</td>\n",
              "      <td>81.36</td>\n",
              "      <td>202</td>\n",
              "      <td>2</td>\n",
              "      <td>1</td>\n",
              "      <td>2</td>\n",
              "      <td>2</td>\n",
              "      <td>2122</td>\n",
              "      <td>7</td>\n",
              "    </tr>\n",
              "    <tr>\n",
              "      <th>fffeda5b6d849fbd39689bb92087f431</th>\n",
              "      <td>131.0</td>\n",
              "      <td>1</td>\n",
              "      <td>63.13</td>\n",
              "      <td>148</td>\n",
              "      <td>3</td>\n",
              "      <td>1</td>\n",
              "      <td>2</td>\n",
              "      <td>1</td>\n",
              "      <td>3121</td>\n",
              "      <td>7</td>\n",
              "    </tr>\n",
              "    <tr>\n",
              "      <th>ffff42319e9b2d713724ae527742af25</th>\n",
              "      <td>121.0</td>\n",
              "      <td>1</td>\n",
              "      <td>214.13</td>\n",
              "      <td>126</td>\n",
              "      <td>3</td>\n",
              "      <td>1</td>\n",
              "      <td>4</td>\n",
              "      <td>1</td>\n",
              "      <td>3141</td>\n",
              "      <td>9</td>\n",
              "    </tr>\n",
              "    <tr>\n",
              "      <th>ffffa3172527f765de70084a7e53aae8</th>\n",
              "      <td>398.0</td>\n",
              "      <td>1</td>\n",
              "      <td>45.50</td>\n",
              "      <td>411</td>\n",
              "      <td>1</td>\n",
              "      <td>1</td>\n",
              "      <td>1</td>\n",
              "      <td>4</td>\n",
              "      <td>1114</td>\n",
              "      <td>7</td>\n",
              "    </tr>\n",
              "  </tbody>\n",
              "</table>\n",
              "<p>96469 rows × 10 columns</p>\n",
              "</div>"
            ],
            "text/plain": [
              "                                  recency  frequency  ...  RFMT_Segment  RFMT_Score\n",
              "customer_id                                           ...                          \n",
              "00012a2ce6f8dcda20d059ce98491703    323.0          1  ...          2133           9\n",
              "000161a058600d5901f007fab4c27140    449.0          1  ...          1124           8\n",
              "0001fd6190edaaf884bcaf3d49edf079    591.0          1  ...          1144          10\n",
              "0002414f95344307404f0ace7a26f1d5    399.0          1  ...          1144          10\n",
              "000379cdec625522490c315e70c7a9fb    187.0          1  ...          3132           9\n",
              "...                                   ...        ...  ...           ...         ...\n",
              "fffcb937e9dd47a13f05ecb8290f4d3e    210.0          1  ...          2122           7\n",
              "fffecc9f79fd8c764f843e9951b11341    190.0          3  ...          2122           7\n",
              "fffeda5b6d849fbd39689bb92087f431    131.0          1  ...          3121           7\n",
              "ffff42319e9b2d713724ae527742af25    121.0          1  ...          3141           9\n",
              "ffffa3172527f765de70084a7e53aae8    398.0          1  ...          1114           7\n",
              "\n",
              "[96469 rows x 10 columns]"
            ]
          },
          "metadata": {
            "tags": []
          },
          "execution_count": 27
        }
      ]
    },
    {
      "cell_type": "code",
      "metadata": {
        "colab": {
          "base_uri": "https://localhost:8080/"
        },
        "id": "X7WGv6t-Voys",
        "outputId": "594df54f-865a-49d2-f350-955c2903942f"
      },
      "source": [
        "# 10 largest RFMT segments\n",
        "rfmt.groupby('RFMT_Segment').size().sort_values(ascending=False)[:10]"
      ],
      "execution_count": 28,
      "outputs": [
        {
          "output_type": "execute_result",
          "data": {
            "text/plain": [
              "RFMT_Segment\n",
              "1114    6219\n",
              "3141    6189\n",
              "3131    6175\n",
              "1124    6172\n",
              "3111    5917\n",
              "3121    5904\n",
              "1144    5847\n",
              "1134    5732\n",
              "2112    4282\n",
              "2123    4109\n",
              "dtype: int64"
            ]
          },
          "metadata": {
            "tags": []
          },
          "execution_count": 28
        }
      ]
    },
    {
      "cell_type": "code",
      "metadata": {
        "colab": {
          "base_uri": "https://localhost:8080/",
          "height": 300
        },
        "id": "DGaOQ1XdVuXw",
        "outputId": "b4f36bcf-67ab-49f0-b7c7-1ce98eea2546"
      },
      "source": [
        "rfmt.groupby('RFMT_Score').agg({'recency':'mean',\n",
        "                                'frequency':'mean',\n",
        "                                'monetary_value':['mean','count'],\n",
        "                                'tenure': 'mean'\n",
        "                                }).round(1)"
      ],
      "execution_count": 29,
      "outputs": [
        {
          "output_type": "execute_result",
          "data": {
            "text/html": [
              "<div>\n",
              "<style scoped>\n",
              "    .dataframe tbody tr th:only-of-type {\n",
              "        vertical-align: middle;\n",
              "    }\n",
              "\n",
              "    .dataframe tbody tr th {\n",
              "        vertical-align: top;\n",
              "    }\n",
              "\n",
              "    .dataframe thead tr th {\n",
              "        text-align: left;\n",
              "    }\n",
              "\n",
              "    .dataframe thead tr:last-of-type th {\n",
              "        text-align: right;\n",
              "    }\n",
              "</style>\n",
              "<table border=\"1\" class=\"dataframe\">\n",
              "  <thead>\n",
              "    <tr>\n",
              "      <th></th>\n",
              "      <th>recency</th>\n",
              "      <th>frequency</th>\n",
              "      <th colspan=\"2\" halign=\"left\">monetary_value</th>\n",
              "      <th>tenure</th>\n",
              "    </tr>\n",
              "    <tr>\n",
              "      <th></th>\n",
              "      <th>mean</th>\n",
              "      <th>mean</th>\n",
              "      <th>mean</th>\n",
              "      <th>count</th>\n",
              "      <th>mean</th>\n",
              "    </tr>\n",
              "    <tr>\n",
              "      <th>RFMT_Score</th>\n",
              "      <th></th>\n",
              "      <th></th>\n",
              "      <th></th>\n",
              "      <th></th>\n",
              "      <th></th>\n",
              "    </tr>\n",
              "  </thead>\n",
              "  <tbody>\n",
              "    <tr>\n",
              "      <th>6</th>\n",
              "      <td>184.4</td>\n",
              "      <td>1.0</td>\n",
              "      <td>42.8</td>\n",
              "      <td>12191</td>\n",
              "      <td>194.3</td>\n",
              "    </tr>\n",
              "    <tr>\n",
              "      <th>7</th>\n",
              "      <td>282.5</td>\n",
              "      <td>1.0</td>\n",
              "      <td>62.3</td>\n",
              "      <td>23752</td>\n",
              "      <td>294.2</td>\n",
              "    </tr>\n",
              "    <tr>\n",
              "      <th>8</th>\n",
              "      <td>276.0</td>\n",
              "      <td>1.0</td>\n",
              "      <td>109.3</td>\n",
              "      <td>24437</td>\n",
              "      <td>288.7</td>\n",
              "    </tr>\n",
              "    <tr>\n",
              "      <th>9</th>\n",
              "      <td>272.5</td>\n",
              "      <td>1.0</td>\n",
              "      <td>257.7</td>\n",
              "      <td>23993</td>\n",
              "      <td>285.9</td>\n",
              "    </tr>\n",
              "    <tr>\n",
              "      <th>10</th>\n",
              "      <td>365.6</td>\n",
              "      <td>1.0</td>\n",
              "      <td>377.5</td>\n",
              "      <td>12090</td>\n",
              "      <td>381.1</td>\n",
              "    </tr>\n",
              "    <tr>\n",
              "      <th>11</th>\n",
              "      <td>209.7</td>\n",
              "      <td>1.0</td>\n",
              "      <td>463.5</td>\n",
              "      <td>6</td>\n",
              "      <td>327.0</td>\n",
              "    </tr>\n",
              "  </tbody>\n",
              "</table>\n",
              "</div>"
            ],
            "text/plain": [
              "           recency frequency monetary_value        tenure\n",
              "              mean      mean           mean  count   mean\n",
              "RFMT_Score                                               \n",
              "6            184.4       1.0           42.8  12191  194.3\n",
              "7            282.5       1.0           62.3  23752  294.2\n",
              "8            276.0       1.0          109.3  24437  288.7\n",
              "9            272.5       1.0          257.7  23993  285.9\n",
              "10           365.6       1.0          377.5  12090  381.1\n",
              "11           209.7       1.0          463.5      6  327.0"
            ]
          },
          "metadata": {
            "tags": []
          },
          "execution_count": 29
        }
      ]
    },
    {
      "cell_type": "code",
      "metadata": {
        "colab": {
          "base_uri": "https://localhost:8080/",
          "height": 206
        },
        "id": "QvFKynyQWB7Q",
        "outputId": "9f96bf3a-c1ae-481b-c361-d41f606566e4"
      },
      "source": [
        "def segment_name(df):\n",
        "  if df['RFMT_Score'] >= 10:\n",
        "    return 'Gold'\n",
        "  elif df['RFMT_Score'] >=8 and df['RFMT_Score'] <=10:\n",
        "    return 'Silver'\n",
        "  else:\n",
        "    return 'Bronze'   \n",
        "\n",
        "rfmt['Segment_Name'] = rfmt.apply(segment_name, axis=1)\n",
        "\n",
        "rfmt.groupby('Segment_Name').agg({'recency':'mean',\n",
        "                                  'frequency':'mean',\n",
        "                                  'monetary_value':['mean','count'],\n",
        "                                  'tenure':'mean'\n",
        "                                 }).round(1)"
      ],
      "execution_count": 30,
      "outputs": [
        {
          "output_type": "execute_result",
          "data": {
            "text/html": [
              "<div>\n",
              "<style scoped>\n",
              "    .dataframe tbody tr th:only-of-type {\n",
              "        vertical-align: middle;\n",
              "    }\n",
              "\n",
              "    .dataframe tbody tr th {\n",
              "        vertical-align: top;\n",
              "    }\n",
              "\n",
              "    .dataframe thead tr th {\n",
              "        text-align: left;\n",
              "    }\n",
              "\n",
              "    .dataframe thead tr:last-of-type th {\n",
              "        text-align: right;\n",
              "    }\n",
              "</style>\n",
              "<table border=\"1\" class=\"dataframe\">\n",
              "  <thead>\n",
              "    <tr>\n",
              "      <th></th>\n",
              "      <th>recency</th>\n",
              "      <th>frequency</th>\n",
              "      <th colspan=\"2\" halign=\"left\">monetary_value</th>\n",
              "      <th>tenure</th>\n",
              "    </tr>\n",
              "    <tr>\n",
              "      <th></th>\n",
              "      <th>mean</th>\n",
              "      <th>mean</th>\n",
              "      <th>mean</th>\n",
              "      <th>count</th>\n",
              "      <th>mean</th>\n",
              "    </tr>\n",
              "    <tr>\n",
              "      <th>Segment_Name</th>\n",
              "      <th></th>\n",
              "      <th></th>\n",
              "      <th></th>\n",
              "      <th></th>\n",
              "      <th></th>\n",
              "    </tr>\n",
              "  </thead>\n",
              "  <tbody>\n",
              "    <tr>\n",
              "      <th>Bronze</th>\n",
              "      <td>249.2</td>\n",
              "      <td>1.0</td>\n",
              "      <td>55.7</td>\n",
              "      <td>35943</td>\n",
              "      <td>260.3</td>\n",
              "    </tr>\n",
              "    <tr>\n",
              "      <th>Gold</th>\n",
              "      <td>365.5</td>\n",
              "      <td>1.0</td>\n",
              "      <td>377.6</td>\n",
              "      <td>12096</td>\n",
              "      <td>381.0</td>\n",
              "    </tr>\n",
              "    <tr>\n",
              "      <th>Silver</th>\n",
              "      <td>274.2</td>\n",
              "      <td>1.0</td>\n",
              "      <td>182.8</td>\n",
              "      <td>48430</td>\n",
              "      <td>287.4</td>\n",
              "    </tr>\n",
              "  </tbody>\n",
              "</table>\n",
              "</div>"
            ],
            "text/plain": [
              "             recency frequency monetary_value        tenure\n",
              "                mean      mean           mean  count   mean\n",
              "Segment_Name                                               \n",
              "Bronze         249.2       1.0           55.7  35943  260.3\n",
              "Gold           365.5       1.0          377.6  12096  381.0\n",
              "Silver         274.2       1.0          182.8  48430  287.4"
            ]
          },
          "metadata": {
            "tags": []
          },
          "execution_count": 30
        }
      ]
    },
    {
      "cell_type": "markdown",
      "metadata": {
        "id": "wsZTVG0NWiQi"
      },
      "source": [
        "## 6. K-means clustering\n",
        "\n",
        "Instead of manually segmenting and scoring using arbitrary cutoffs, let's apply K-means clustering to uncover segments with distinct purchasing behavior. \n",
        "\n"
      ]
    },
    {
      "cell_type": "markdown",
      "metadata": {
        "id": "dNjdgdKfIAuM"
      },
      "source": [
        "### Box Cox Transformation\n",
        "\n",
        "K-means requires that variables have symmetric (non-skewed) distribution, the same mean, and the same variance. Let's unskew our data using Box Cox transformation and scale it to normalize our RFMT metrics with mean around 0 and st dev around 1. "
      ]
    },
    {
      "cell_type": "code",
      "metadata": {
        "id": "eTISTUSLWqz1"
      },
      "source": [
        "# RFMT metrics\n",
        "snapshot_date = df['order_delivered_customer_date'].max() + timedelta(days=1)\n",
        "rfmt = df.groupby('customer_id') \\\n",
        "         .agg({'order_delivered_customer_date': lambda x: (snapshot_date - x.max()).days, # recency\n",
        "               'order_id': 'count', # frequency\n",
        "               'payment_value': 'sum', # monetary value\n",
        "               'order_purchase_timestamp': lambda x: (snapshot_date - x.min()).days # tenure\n",
        "              }) \n",
        "\n",
        "rfmt.dropna(inplace=True)\n",
        "rfmt = rfmt.query('payment_value > 0') # keep only non-zero monetary values\n",
        "rfmt.columns = ['recency','frequency','monetary_value','tenure']"
      ],
      "execution_count": 31,
      "outputs": []
    },
    {
      "cell_type": "code",
      "metadata": {
        "colab": {
          "base_uri": "https://localhost:8080/",
          "height": 321
        },
        "id": "3eJvj0gLXhhG",
        "outputId": "7d1a0ec8-e2b0-4496-feb6-611175ca8a40"
      },
      "source": [
        "fig, axes = plt.subplots(1, 4, figsize=(16,4))\n",
        "\n",
        "rfmt.hist('recency', bins=10, color='turquoise', ax=axes[0])\n",
        "rfmt.hist('frequency', bins=3, color='salmon', ax=axes[1])\n",
        "rfmt.hist('monetary_value', bins=100, color='gold',ax=axes[2])\n",
        "rfmt.hist('tenure', bins=10, color='slategray',ax=axes[3])\n",
        "\n",
        "axes[0].set_title('Recency')\n",
        "axes[1].set_title('Frequency')\n",
        "axes[2].set_title('Monetary Value')\n",
        "axes[3].set_title('Tenure')"
      ],
      "execution_count": 32,
      "outputs": [
        {
          "output_type": "execute_result",
          "data": {
            "text/plain": [
              "Text(0.5, 1.0, 'Tenure')"
            ]
          },
          "metadata": {
            "tags": []
          },
          "execution_count": 32
        },
        {
          "output_type": "display_data",
          "data": {
            "image/png": "[encoded data removed]",
            "text/plain": [
              "<Figure size 1152x288 with 4 Axes>"
            ]
          },
          "metadata": {
            "tags": []
          }
        }
      ]
    },
    {
      "cell_type": "markdown",
      "metadata": {
        "id": "IbRuFPKju7w3"
      },
      "source": [
        "RFM variables are skewed, particularly frequency and monetary value. "
      ]
    },
    {
      "cell_type": "code",
      "metadata": {
        "id": "_QWlKwyqX4ei"
      },
      "source": [
        "def boxcox_df(x):\n",
        "  # Since stats.boxcox returns 2 objects, this function can be applied to a dataframe and returns 1 object \n",
        "  x_boxcox, _ = stats.boxcox(x) # we don't care about second object \n",
        "  return x_boxcox\n",
        "\n",
        "rfmt_boxcox = rfmt.apply(boxcox_df, axis=0)"
      ],
      "execution_count": 33,
      "outputs": []
    },
    {
      "cell_type": "code",
      "metadata": {
        "colab": {
          "base_uri": "https://localhost:8080/",
          "height": 321
        },
        "id": "99ff9A_kYC0F",
        "outputId": "e05643c9-7b3b-4840-96da-1010e35ebed5"
      },
      "source": [
        "fig, axes = plt.subplots(1, 4, figsize=(16,4))\n",
        "\n",
        "rfmt_boxcox.hist('recency', bins=10, color='turquoise', ax=axes[0])\n",
        "rfmt_boxcox.hist('frequency', bins=3, color='salmon', ax=axes[1])\n",
        "rfmt_boxcox.hist('monetary_value', bins=40, color='gold',ax=axes[2])\n",
        "rfmt_boxcox.hist('tenure', bins=10, color='slategray',ax=axes[3])\n",
        "\n",
        "axes[0].set_title('Box Cox Recency')\n",
        "axes[1].set_title('Box Cox Frequency')\n",
        "axes[2].set_title('Box Cox Monetary Value')\n",
        "axes[3].set_title('Box Cox Tenure')"
      ],
      "execution_count": 34,
      "outputs": [
        {
          "output_type": "execute_result",
          "data": {
            "text/plain": [
              "Text(0.5, 1.0, 'Box Cox Tenure')"
            ]
          },
          "metadata": {
            "tags": []
          },
          "execution_count": 34
        },
        {
          "output_type": "display_data",
          "data": {
            "image/png": "[encoded data removed]",
            "text/plain": [
              "<Figure size 1152x288 with 4 Axes>"
            ]
          },
          "metadata": {
            "tags": []
          }
        }
      ]
    },
    {
      "cell_type": "markdown",
      "metadata": {
        "id": "Ys6gRh0Mvfkd"
      },
      "source": [
        "Box cox-transformed variables are less skewed, though frequency remains skewed because most values are 1."
      ]
    },
    {
      "cell_type": "markdown",
      "metadata": {
        "id": "hY4CcOoBI4za"
      },
      "source": [
        "### Scaling"
      ]
    },
    {
      "cell_type": "code",
      "metadata": {
        "colab": {
          "base_uri": "https://localhost:8080/",
          "height": 112
        },
        "id": "MtcxWJInY3ef",
        "outputId": "e42c405e-9354-4d18-9f12-352bf9d738cb"
      },
      "source": [
        "scaler = StandardScaler()\n",
        "scaler.fit(rfmt_boxcox)\n",
        "rfmt_scaled = scaler.transform(rfmt_boxcox) # stored as numpy array\n",
        "\n",
        "rfmt_scaled_df = pd.DataFrame(data=rfmt_scaled,\n",
        "                              index=rfmt_boxcox.index,\n",
        "                              columns=rfmt_boxcox.columns)\n",
        "\n",
        "rfmt_scaled_df.agg(['mean','std']).round()"
      ],
      "execution_count": 35,
      "outputs": [
        {
          "output_type": "execute_result",
          "data": {
            "text/html": [
              "<div>\n",
              "<style scoped>\n",
              "    .dataframe tbody tr th:only-of-type {\n",
              "        vertical-align: middle;\n",
              "    }\n",
              "\n",
              "    .dataframe tbody tr th {\n",
              "        vertical-align: top;\n",
              "    }\n",
              "\n",
              "    .dataframe thead th {\n",
              "        text-align: right;\n",
              "    }\n",
              "</style>\n",
              "<table border=\"1\" class=\"dataframe\">\n",
              "  <thead>\n",
              "    <tr style=\"text-align: right;\">\n",
              "      <th></th>\n",
              "      <th>recency</th>\n",
              "      <th>frequency</th>\n",
              "      <th>monetary_value</th>\n",
              "      <th>tenure</th>\n",
              "    </tr>\n",
              "  </thead>\n",
              "  <tbody>\n",
              "    <tr>\n",
              "      <th>mean</th>\n",
              "      <td>-0.0</td>\n",
              "      <td>-0.0</td>\n",
              "      <td>0.0</td>\n",
              "      <td>0.0</td>\n",
              "    </tr>\n",
              "    <tr>\n",
              "      <th>std</th>\n",
              "      <td>1.0</td>\n",
              "      <td>1.0</td>\n",
              "      <td>1.0</td>\n",
              "      <td>1.0</td>\n",
              "    </tr>\n",
              "  </tbody>\n",
              "</table>\n",
              "</div>"
            ],
            "text/plain": [
              "      recency  frequency  monetary_value  tenure\n",
              "mean     -0.0       -0.0             0.0     0.0\n",
              "std       1.0        1.0             1.0     1.0"
            ]
          },
          "metadata": {
            "tags": []
          },
          "execution_count": 35
        }
      ]
    },
    {
      "cell_type": "markdown",
      "metadata": {
        "id": "eto8yAhuxLaA"
      },
      "source": [
        "As we expect, all means are close to 0 and all standard deviations are close to 1."
      ]
    },
    {
      "cell_type": "code",
      "metadata": {
        "colab": {
          "base_uri": "https://localhost:8080/",
          "height": 321
        },
        "id": "cRPmkBWeZMR0",
        "outputId": "5b58842e-135f-4538-d676-79bb3c5d713a"
      },
      "source": [
        "fig, axes = plt.subplots(1, 4, figsize=(16,4))\n",
        "\n",
        "rfmt_scaled_df.hist('recency', bins=10, color='turquoise', ax=axes[0])\n",
        "rfmt_scaled_df.hist('frequency', bins=3, color='salmon', ax=axes[1])\n",
        "rfmt_scaled_df.hist('monetary_value', bins=40, color='gold',ax=axes[2])\n",
        "rfmt_scaled_df.hist('tenure', bins=10, color='slategray',ax=axes[3])\n",
        "\n",
        "axes[0].set_title('Normalized Recency')\n",
        "axes[1].set_title('Normalized Frequency')\n",
        "axes[2].set_title('Normalized Monetary Value')\n",
        "axes[3].set_title('Normalized Tenure')"
      ],
      "execution_count": 36,
      "outputs": [
        {
          "output_type": "execute_result",
          "data": {
            "text/plain": [
              "Text(0.5, 1.0, 'Normalized Tenure')"
            ]
          },
          "metadata": {
            "tags": []
          },
          "execution_count": 36
        },
        {
          "output_type": "display_data",
          "data": {
            "image/png": "[encoded data removed]",
            "text/plain": [
              "<Figure size 1152x288 with 4 Axes>"
            ]
          },
          "metadata": {
            "tags": []
          }
        }
      ]
    },
    {
      "cell_type": "markdown",
      "metadata": {
        "id": "nNX3Ynr02Gbn"
      },
      "source": [
        "### Optimal K"
      ]
    },
    {
      "cell_type": "code",
      "metadata": {
        "colab": {
          "base_uri": "https://localhost:8080/",
          "height": 343
        },
        "id": "G5qq2_dnZgzv",
        "outputId": "6a57c3cb-70ea-49bb-a26c-e978e134b2d0"
      },
      "source": [
        "sse={}\n",
        "for k in range(1,11):\n",
        "  kmeans = KMeans(n_clusters=k, random_state=1111)\n",
        "  kmeans.fit(rfmt_scaled_df)\n",
        "  sse[k] = kmeans.inertia_\n",
        "\n",
        "sns.lineplot(x=list(sse.keys()), y=list(sse.values()))\n",
        "plt.title('Elbow Plot')\n",
        "plt.xlabel('Number of Clusters')\n",
        "plt.ylabel('Squared Standard Error')"
      ],
      "execution_count": 37,
      "outputs": [
        {
          "output_type": "execute_result",
          "data": {
            "text/plain": [
              "Text(0, 0.5, 'Squared Standard Error')"
            ]
          },
          "metadata": {
            "tags": []
          },
          "execution_count": 37
        },
        {
          "output_type": "display_data",
          "data": {
            "image/png": "[encoded data removed]",
            "text/plain": [
              "<Figure size 432x288 with 1 Axes>"
            ]
          },
          "metadata": {
            "tags": []
          }
        }
      ]
    },
    {
      "cell_type": "markdown",
      "metadata": {
        "id": "LBWGOt47Zzyc"
      },
      "source": [
        "Using the elbow method, the optimal number of clusters is 3 or 4, after which we have diminishing returns to SSE. Let's try both and compare. "
      ]
    },
    {
      "cell_type": "markdown",
      "metadata": {
        "id": "ZAZRgC1mJ-4c"
      },
      "source": [
        "### Fit"
      ]
    },
    {
      "cell_type": "markdown",
      "metadata": {
        "id": "Pzi6YCsRBtVH"
      },
      "source": [
        "#### 3 Clusters"
      ]
    },
    {
      "cell_type": "code",
      "metadata": {
        "colab": {
          "base_uri": "https://localhost:8080/",
          "height": 206
        },
        "id": "g2jT01v6Z7O-",
        "outputId": "bf03f99d-eeed-4f42-86fb-715d3f9fce5c"
      },
      "source": [
        "kmeans = KMeans(n_clusters=3, random_state=1111)\n",
        "kmeans.fit(rfmt_scaled_df)\n",
        "cluster_labels = kmeans.labels_\n",
        "\n",
        "rfmt_3_clusters = rfmt.assign(cluster = cluster_labels) # add cluster column to original rfm dataframe\n",
        "rfmt_3_clusters.groupby(['cluster']) \\\n",
        "              .agg({\n",
        "                    'recency':'mean',\n",
        "                    'frequency':'mean',\n",
        "                    'monetary_value':['mean','count'],\n",
        "                    'tenure':'mean'\n",
        "                    }).round(0)"
      ],
      "execution_count": 38,
      "outputs": [
        {
          "output_type": "execute_result",
          "data": {
            "text/html": [
              "<div>\n",
              "<style scoped>\n",
              "    .dataframe tbody tr th:only-of-type {\n",
              "        vertical-align: middle;\n",
              "    }\n",
              "\n",
              "    .dataframe tbody tr th {\n",
              "        vertical-align: top;\n",
              "    }\n",
              "\n",
              "    .dataframe thead tr th {\n",
              "        text-align: left;\n",
              "    }\n",
              "\n",
              "    .dataframe thead tr:last-of-type th {\n",
              "        text-align: right;\n",
              "    }\n",
              "</style>\n",
              "<table border=\"1\" class=\"dataframe\">\n",
              "  <thead>\n",
              "    <tr>\n",
              "      <th></th>\n",
              "      <th>recency</th>\n",
              "      <th>frequency</th>\n",
              "      <th colspan=\"2\" halign=\"left\">monetary_value</th>\n",
              "      <th>tenure</th>\n",
              "    </tr>\n",
              "    <tr>\n",
              "      <th></th>\n",
              "      <th>mean</th>\n",
              "      <th>mean</th>\n",
              "      <th>mean</th>\n",
              "      <th>count</th>\n",
              "      <th>mean</th>\n",
              "    </tr>\n",
              "    <tr>\n",
              "      <th>cluster</th>\n",
              "      <th></th>\n",
              "      <th></th>\n",
              "      <th></th>\n",
              "      <th></th>\n",
              "      <th></th>\n",
              "    </tr>\n",
              "  </thead>\n",
              "  <tbody>\n",
              "    <tr>\n",
              "      <th>0</th>\n",
              "      <td>396.0</td>\n",
              "      <td>1.0</td>\n",
              "      <td>157.0</td>\n",
              "      <td>48599</td>\n",
              "      <td>409.0</td>\n",
              "    </tr>\n",
              "    <tr>\n",
              "      <th>1</th>\n",
              "      <td>146.0</td>\n",
              "      <td>1.0</td>\n",
              "      <td>162.0</td>\n",
              "      <td>44995</td>\n",
              "      <td>158.0</td>\n",
              "    </tr>\n",
              "    <tr>\n",
              "      <th>2</th>\n",
              "      <td>298.0</td>\n",
              "      <td>2.0</td>\n",
              "      <td>164.0</td>\n",
              "      <td>2875</td>\n",
              "      <td>311.0</td>\n",
              "    </tr>\n",
              "  </tbody>\n",
              "</table>\n",
              "</div>"
            ],
            "text/plain": [
              "        recency frequency monetary_value        tenure\n",
              "           mean      mean           mean  count   mean\n",
              "cluster                                               \n",
              "0         396.0       1.0          157.0  48599  409.0\n",
              "1         146.0       1.0          162.0  44995  158.0\n",
              "2         298.0       2.0          164.0   2875  311.0"
            ]
          },
          "metadata": {
            "tags": []
          },
          "execution_count": 38
        }
      ]
    },
    {
      "cell_type": "markdown",
      "metadata": {
        "id": "X5FzKpf5Bphw"
      },
      "source": [
        "#### 4 Clusters"
      ]
    },
    {
      "cell_type": "code",
      "metadata": {
        "colab": {
          "base_uri": "https://localhost:8080/",
          "height": 238
        },
        "id": "oPb2GfJJaP-W",
        "outputId": "58e38041-34a4-46c0-8e3b-428912691876"
      },
      "source": [
        "kmeans = KMeans(n_clusters=4, random_state=1111)\n",
        "kmeans.fit(rfmt_scaled_df)\n",
        "cluster_labels = kmeans.labels_\n",
        "\n",
        "rfmt_4_clusters = rfmt.assign(cluster = cluster_labels) # add cluster column to original rfm dataframe\n",
        "rfmt_4_clusters.groupby(['cluster']) \\\n",
        "              .agg({\n",
        "                    'recency':'mean',\n",
        "                    'frequency':'mean',\n",
        "                    'monetary_value':['mean','count'],\n",
        "                    'tenure':'mean'\n",
        "                    }).round(0)"
      ],
      "execution_count": 39,
      "outputs": [
        {
          "output_type": "execute_result",
          "data": {
            "text/html": [
              "<div>\n",
              "<style scoped>\n",
              "    .dataframe tbody tr th:only-of-type {\n",
              "        vertical-align: middle;\n",
              "    }\n",
              "\n",
              "    .dataframe tbody tr th {\n",
              "        vertical-align: top;\n",
              "    }\n",
              "\n",
              "    .dataframe thead tr th {\n",
              "        text-align: left;\n",
              "    }\n",
              "\n",
              "    .dataframe thead tr:last-of-type th {\n",
              "        text-align: right;\n",
              "    }\n",
              "</style>\n",
              "<table border=\"1\" class=\"dataframe\">\n",
              "  <thead>\n",
              "    <tr>\n",
              "      <th></th>\n",
              "      <th>recency</th>\n",
              "      <th>frequency</th>\n",
              "      <th colspan=\"2\" halign=\"left\">monetary_value</th>\n",
              "      <th>tenure</th>\n",
              "    </tr>\n",
              "    <tr>\n",
              "      <th></th>\n",
              "      <th>mean</th>\n",
              "      <th>mean</th>\n",
              "      <th>mean</th>\n",
              "      <th>count</th>\n",
              "      <th>mean</th>\n",
              "    </tr>\n",
              "    <tr>\n",
              "      <th>cluster</th>\n",
              "      <th></th>\n",
              "      <th></th>\n",
              "      <th></th>\n",
              "      <th></th>\n",
              "      <th></th>\n",
              "    </tr>\n",
              "  </thead>\n",
              "  <tbody>\n",
              "    <tr>\n",
              "      <th>0</th>\n",
              "      <td>380.0</td>\n",
              "      <td>1.0</td>\n",
              "      <td>256.0</td>\n",
              "      <td>29330</td>\n",
              "      <td>394.0</td>\n",
              "    </tr>\n",
              "    <tr>\n",
              "      <th>1</th>\n",
              "      <td>131.0</td>\n",
              "      <td>1.0</td>\n",
              "      <td>158.0</td>\n",
              "      <td>37670</td>\n",
              "      <td>143.0</td>\n",
              "    </tr>\n",
              "    <tr>\n",
              "      <th>2</th>\n",
              "      <td>298.0</td>\n",
              "      <td>2.0</td>\n",
              "      <td>164.0</td>\n",
              "      <td>2875</td>\n",
              "      <td>311.0</td>\n",
              "    </tr>\n",
              "    <tr>\n",
              "      <th>3</th>\n",
              "      <td>365.0</td>\n",
              "      <td>1.0</td>\n",
              "      <td>56.0</td>\n",
              "      <td>26594</td>\n",
              "      <td>378.0</td>\n",
              "    </tr>\n",
              "  </tbody>\n",
              "</table>\n",
              "</div>"
            ],
            "text/plain": [
              "        recency frequency monetary_value        tenure\n",
              "           mean      mean           mean  count   mean\n",
              "cluster                                               \n",
              "0         380.0       1.0          256.0  29330  394.0\n",
              "1         131.0       1.0          158.0  37670  143.0\n",
              "2         298.0       2.0          164.0   2875  311.0\n",
              "3         365.0       1.0           56.0  26594  378.0"
            ]
          },
          "metadata": {
            "tags": []
          },
          "execution_count": 39
        }
      ]
    },
    {
      "cell_type": "markdown",
      "metadata": {
        "id": "S6iqFKjECsU-"
      },
      "source": [
        "While the 3 cluster segementation is simpler, 4 clusters provides more insight, better separating monetary values on the low and high ends. Cluster 2 stands out in size as a small group of higher frequency buyers.  \n",
        "\n",
        "- Cluster 0: weak recency, highest spend, longest tenure customers\n",
        "\n",
        "- Cluster 1: strongest recency, moderate spend customers\n",
        "\n",
        "- Cluster 2: small group of higher frequency, moderate spend customers\n",
        "\n",
        "- Cluster 3: weak recency, lowest spend customers "
      ]
    },
    {
      "cell_type": "markdown",
      "metadata": {
        "id": "1GXbmwaFKTVV"
      },
      "source": [
        "## 7. Segments"
      ]
    },
    {
      "cell_type": "markdown",
      "metadata": {
        "id": "KufAUWNuEYjK"
      },
      "source": [
        "### Snake Plot"
      ]
    },
    {
      "cell_type": "code",
      "metadata": {
        "colab": {
          "base_uri": "https://localhost:8080/",
          "height": 401
        },
        "id": "5jivuZL1auxa",
        "outputId": "57a186e4-11d3-4d71-9de1-6ec1df621b3d"
      },
      "source": [
        "rfmt_scaled_df['cluster'] = rfmt_4_clusters['cluster']\n",
        "\n",
        "# Melt to long format for easier plotting\n",
        "rfmt_melted = pd.melt(rfmt_scaled_df.reset_index(), \n",
        "                      id_vars = ['customer_id', 'cluster'],\n",
        "                      value_vars = ['recency','frequency','monetary_value','tenure'],\n",
        "                      var_name = 'Metric',\n",
        "                      value_name = 'Value')\n",
        "\n",
        "plt.figure(figsize=(12,5))\n",
        "sns.lineplot(x='Metric', y='Value', hue='cluster', data=rfmt_melted)\n",
        "plt.title('Snake Plot of Standardized RFMT')"
      ],
      "execution_count": 43,
      "outputs": [
        {
          "output_type": "execute_result",
          "data": {
            "text/plain": [
              "Text(0.5, 1.0, 'Snake Plot of Standardized RFMT')"
            ]
          },
          "metadata": {
            "tags": []
          },
          "execution_count": 43
        },
        {
          "output_type": "display_data",
          "data": {
            "image/png": "[encoded data removed]",
            "text/plain": [
              "<Figure size 864x360 with 1 Axes>"
            ]
          },
          "metadata": {
            "tags": []
          }
        }
      ]
    },
    {
      "cell_type": "markdown",
      "metadata": {
        "id": "cbUszIIrLZif"
      },
      "source": [
        "The snake plot visualizes the differences between the clusters. For example, we can more easily see higher frequency Cluster 2, low monetary value Cluster 3, and high monetary value Cluster 0. "
      ]
    },
    {
      "cell_type": "markdown",
      "metadata": {
        "id": "bLnYvQQmK7-r"
      },
      "source": [
        "### Relative Importance of Segment Metrics"
      ]
    },
    {
      "cell_type": "markdown",
      "metadata": {
        "id": "4lHp2Q_MMm9a"
      },
      "source": [
        "To understand the importance of each metric to each segment relative to the population, let's calculate relative importance. The farther the ratio is from 0, the higher the metric's importance for that segment compared to the population average. "
      ]
    },
    {
      "cell_type": "code",
      "metadata": {
        "colab": {
          "base_uri": "https://localhost:8080/",
          "height": 263
        },
        "id": "8wUGFJjnbXRK",
        "outputId": "def0d6ef-55d5-419b-8145-bfe08a483ebd"
      },
      "source": [
        "cluster_avg = rfmt_4_clusters.groupby(['cluster']).mean()\n",
        "population_avg = rfmt.mean()\n",
        "relative_importance = cluster_avg / population_avg - 1\n",
        "\n",
        "plt.figure(figsize=(10,3))\n",
        "sns.heatmap(data=relative_importance, annot=True, fmt='.2f', cmap='magma_r')\n",
        "plt.title('Relative Importance of Metric')"
      ],
      "execution_count": 49,
      "outputs": [
        {
          "output_type": "execute_result",
          "data": {
            "text/plain": [
              "Text(0.5, 1.0, 'Relative Importance of Metric')"
            ]
          },
          "metadata": {
            "tags": []
          },
          "execution_count": 49
        },
        {
          "output_type": "display_data",
          "data": {
            "image/png": "[encoded data removed]",
            "text/plain": [
              "<Figure size 720x216 with 2 Axes>"
            ]
          },
          "metadata": {
            "tags": []
          }
        }
      ]
    },
    {
      "cell_type": "markdown",
      "metadata": {
        "id": "BoIv4YiePq-q"
      },
      "source": [
        "Recency is particulary important for Cluster 1, frequency for Cluster 2, monetary value for Cluster 0 and Cluster 3, and tenure for Cluster 1.\n",
        "\n",
        "Based on our understanding customer segment purchasing behavior, we can better tailor product, sales, and marketing activities and investments. "
      ]
    },
    {
      "cell_type": "markdown",
      "metadata": {
        "id": "9XWxEGtrKbhv"
      },
      "source": [
        "## 8. References"
      ]
    },
    {
      "cell_type": "markdown",
      "metadata": {
        "id": "C3fibwUgFx51"
      },
      "source": [
        "https://learn.datacamp.com/courses/customer-segmentation-in-python\n",
        "\n",
        "https://www.geeksforgeeks.org/box-cox-transformation-using-python/\n",
        "\n",
        "https://en.wikipedia.org/wiki/Power_transform#Box%E2%80%93Cox_transformation\n",
        "\n",
        "https://docs.scipy.org/doc/scipy/reference/generated/scipy.stats.boxcox.html"
      ]
    }
  ]
}